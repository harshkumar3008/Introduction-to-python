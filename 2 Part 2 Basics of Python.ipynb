{
  "nbformat": 4,
  "nbformat_minor": 0,
  "metadata": {
    "colab": {
      "provenance": []
    },
    "kernelspec": {
      "name": "python3",
      "display_name": "Python 3"
    },
    "language_info": {
      "name": "python"
    }
  },
  "cells": [
    {
      "cell_type": "markdown",
      "source": [
        "# 📘 **Chapter 1: Introduction to Programming**\n",
        "\n",
        "## 🔹 What is Programming?\n",
        "\n",
        "- **Programming is about communicating with a computer.**  \n",
        "- Just like you need **German** to talk in Germany, or **French** in France,  \n",
        "  you need a **programming language** to talk to a computer.\n",
        "\n",
        "📦 **Key Point:**  \n",
        "To communicate with a computer → you must learn a programming language.\n",
        "\n",
        "---\n",
        "\n",
        "## 🔹 Why Python?\n",
        "\n",
        "- **Widely spoken** (most popular today).  \n",
        "- **Easy to learn** (compared to C, C++, Pascal, COBOL).  \n",
        "- **Powerful** (can do complex tasks with minimal code).\n",
        "\n",
        "📦 **Python Advantage:**  \n",
        "- Simple syntax  \n",
        "- Beginner-friendly  \n",
        "- Used in **AI, ML, Data Science, Web Development, Automation** etc.  \n",
        "\n",
        "---\n",
        "\n",
        "## 🔹 Programming is Fun 🎉\n",
        "\n",
        "- Lets you make the computer do **complex things really fast**.  \n",
        "- What humans do in hours → computer does in **milliseconds**.  \n",
        "\n",
        "📦 **Essence of Programming:**  \n",
        "1. Talk to the computer  \n",
        "2. Make it do complex tasks  \n",
        "3. Achieve results **very fast**  \n",
        "\n",
        "\n",
        "\n",
        "\n"
      ],
      "metadata": {
        "id": "nbuxyhgnnVCT"
      }
    },
    {
      "cell_type": "markdown",
      "source": [
        "# 🖨️ The `print()` Command & Comments in Python\n",
        "\n",
        "## 🔹 `print()` Command\n",
        "- **Used to display output** on the screen.  \n",
        "- Syntax:  \n",
        "  ```python\n",
        "  print(\"Hello, World!\")\n",
        "\n",
        "You can print:\n",
        "- **Strings** → print(\"Python is fun\")\n",
        "- **Numbers** → print(123)\n",
        "- **Expressions** → print(2 + 3)\n",
        "\n",
        "##🔹 `Comments` in python\n",
        "\n",
        "**Comments** are ignored by Python → used only for explanations.\n",
        "\n",
        "`1.` **Single-line comment** → #....\n",
        "\n",
        "`2.` **Multi-line comment** → triple quotes \"\"\" ... \"\"\"\n",
        "\n",
        "📦 **Key Point:**\n",
        "- Comments make code readable for humans, but are ignored by the computer.\n",
        "- Comments are the part of programming that **will not execute.**\n"
      ],
      "metadata": {
        "id": "KNH4sIMC1iIb"
      }
    },
    {
      "cell_type": "code",
      "execution_count": null,
      "metadata": {
        "colab": {
          "base_uri": "https://localhost:8080/"
        },
        "id": "PuTh3EbcnDzQ",
        "outputId": "42d62264-d2bf-485d-bcdd-e0c8a553542e"
      },
      "outputs": [
        {
          "output_type": "stream",
          "name": "stdout",
          "text": [
            "Hello World\n",
            "Hello India\n",
            "Python is fun\n",
            "123\n",
            "5\n"
          ]
        }
      ],
      "source": [
        "# print command\n",
        "\n",
        "# can use double quotes as well as single quotes\n",
        "\n",
        "print(\"Hello World\")   # Double Quotes\n",
        "\n",
        "print('Hello India')   # Single Quotes\n",
        "\n",
        "#String\n",
        "print(\"Python is fun\")\n",
        "\n",
        "#Number\n",
        "print(123)\n",
        "\n",
        "#Expressions\n",
        "print(2 + 3)"
      ]
    },
    {
      "cell_type": "code",
      "source": [
        "# Comments\n",
        "\n",
        "# This is Single Line Comment\n",
        "\n",
        "\"\"\"\n",
        "This is a\n",
        "multi-line comment\n",
        "\"\"\""
      ],
      "metadata": {
        "colab": {
          "base_uri": "https://localhost:8080/",
          "height": 36
        },
        "id": "1pGgLF704rAu",
        "outputId": "b1bae209-7f83-4fc8-a53d-c6571baba82d"
      },
      "execution_count": null,
      "outputs": [
        {
          "output_type": "execute_result",
          "data": {
            "text/plain": [
              "'\\nThis is a\\nmulti-line comment\\n'"
            ],
            "application/vnd.google.colaboratory.intrinsic+json": {
              "type": "string"
            }
          },
          "metadata": {},
          "execution_count": 26
        }
      ]
    },
    {
      "cell_type": "markdown",
      "source": [
        "- **Triple quotes (\"\"\" ... \"\"\")** are not technically **comments**, they are **multi-line strings.**\n",
        "\n",
        "- If you just write them in your code without assigning them to a variable, **Python doesn’t display anything** when running the script in most cases.\n",
        "\n",
        "- But if you use **print()** on them or check the output in some environments (like notebooks), Python treats it as a string literal, which is why you see:\n",
        "\n",
        "**Output:**\n",
        "\n",
        "` '\\nThis is a \\nmulti-line comment\\n' `\n",
        "\n",
        "📦**Key Point:**\n",
        "\n",
        "- For **real comments** that are ignored by Python, **always use #.**\n",
        "\n",
        "- **Triple quotes** are mainly for **docstrings** or **storing multi-line strings.**\n"
      ],
      "metadata": {
        "id": "GXK_VDO--Jds"
      }
    },
    {
      "cell_type": "code",
      "source": [
        "# Single-line comment\n",
        "print(\"Hello\")  # This is a comment\n",
        "\n",
        "print(\"\"\"\n",
        "This is a docstring / multi-line string\n",
        "It is not ignored if you try to print or display it\n",
        "\"\"\")\n"
      ],
      "metadata": {
        "colab": {
          "base_uri": "https://localhost:8080/"
        },
        "id": "gBa38tUE9dgq",
        "outputId": "81359ae7-0c75-45aa-85d2-ffc4a5699952"
      },
      "execution_count": null,
      "outputs": [
        {
          "output_type": "stream",
          "name": "stdout",
          "text": [
            "Hello\n",
            "\n",
            "This is a docstring / multi-line string\n",
            "It is not ignored if you try to print or display it\n",
            "\n"
          ]
        }
      ]
    },
    {
      "cell_type": "code",
      "source": [
        "# Printing Star Pattern\n",
        "\n",
        "print(\"*\")\n",
        "print(\"**\")\n",
        "print(\"***\")\n",
        "print(\"****\")\n",
        "print(\"*****\")\n",
        "print(\"******\")\n",
        "print(\"*******\")\n",
        "print(\"********\")"
      ],
      "metadata": {
        "colab": {
          "base_uri": "https://localhost:8080/"
        },
        "id": "DlCWJs5Gs-se",
        "outputId": "ebdc737e-d2f7-438d-919e-b129458d4e88"
      },
      "execution_count": null,
      "outputs": [
        {
          "output_type": "stream",
          "name": "stdout",
          "text": [
            "*\n",
            "**\n",
            "***\n",
            "****\n",
            "*****\n",
            "******\n",
            "*******\n",
            "********\n"
          ]
        }
      ]
    },
    {
      "cell_type": "code",
      "source": [
        "# Printing Star Pattern in reverse order\n",
        "\n",
        "print(\"  *\")  # 2 Space + *\n",
        "print(\" **\")  # 1 Space + **\n",
        "print(\"***\")  # 0 Space + ***"
      ],
      "metadata": {
        "colab": {
          "base_uri": "https://localhost:8080/"
        },
        "id": "gG2yBfyyt8Ts",
        "outputId": "58c75371-3380-4945-b07c-bdd1530bafe1"
      },
      "execution_count": null,
      "outputs": [
        {
          "output_type": "stream",
          "name": "stdout",
          "text": [
            "  *\n",
            " **\n",
            "***\n"
          ]
        }
      ]
    },
    {
      "cell_type": "code",
      "source": [
        "# combining two string\n",
        "print('Hello','World')\n",
        "\n",
        "# The + operator is also used to join strings together.\n",
        "\n",
        "# without giving space\n",
        "print('Hi' + 'India' + 'Namaste')\n",
        "\n",
        "# With giving space(empty string)\n",
        "print('Hi'+' India'+' Namaste')"
      ],
      "metadata": {
        "colab": {
          "base_uri": "https://localhost:8080/"
        },
        "id": "-4FZSyHQwgpS",
        "outputId": "1d1ec767-eb54-4c28-d99e-53ec85ae197b"
      },
      "execution_count": null,
      "outputs": [
        {
          "output_type": "stream",
          "name": "stdout",
          "text": [
            "Hello World\n",
            "HiIndiaNamaste\n",
            "Hi India Namaste\n"
          ]
        }
      ]
    },
    {
      "cell_type": "code",
      "source": [
        "# print('Hi',' Harsh', sep='India', end='India')\n",
        "\n",
        "print('Hi',' Harsh!',' How are you ?')\n",
        "\n",
        "print(10)\n",
        "\n",
        "print(20.5)\n",
        "\n",
        "# print command is used to print multiple messages/value at same time\n",
        "# allows us to print string, Whole Number as well as Fractional number\n",
        "print('Hello India', ' Namaste', 10, 20.5)"
      ],
      "metadata": {
        "colab": {
          "base_uri": "https://localhost:8080/"
        },
        "id": "-Lyntck-x3FH",
        "outputId": "317fec18-d361-4485-f857-5aac450d880e"
      },
      "execution_count": null,
      "outputs": [
        {
          "output_type": "stream",
          "name": "stdout",
          "text": [
            "Hi  Harsh!  How are you ?\n",
            "10\n",
            "20.5\n",
            "Hello India  Namaste 10 20.5\n"
          ]
        }
      ]
    },
    {
      "cell_type": "markdown",
      "source": [
        "# **Chapter 2:🔑 Variables in Python**\n",
        "\n",
        "## 🔹 What is a Variable?\n",
        "- A **variable** is a name given to store data in memory.  \n",
        "- It acts like a **container** that holds values.  \n",
        "\n",
        "Example:\n",
        "```python\n",
        "x = 10\n",
        "name = \"Harsh\""
      ],
      "metadata": {
        "id": "OWsW2odyhi94"
      }
    },
    {
      "cell_type": "markdown",
      "source": [
        "## **🔹 Rules for Variables**\n",
        "- Must begin with a **letter** or an **underscore (`_`)**.  \n",
        "- Cannot start with a **number**.  \n",
        "- Can only contain **letters, numbers, and underscores**.  \n",
        "- **Case-sensitive** → `age` and `Age` are different.  \n",
        "- Avoid using **reserved keywords** (like `for`, `if`, `class`).  \n",
        "\n",
        "📦 **Example of Valid Variables:**  \n",
        "`x, name, age_21, _value`  \n",
        "\n",
        "📦 **Invalid Variables:**  \n",
        "`21age, my-name, class`\n",
        "\n",
        "---\n",
        "\n",
        "## **🔹 Variable Types (Dynamic Typing)**\n",
        "- In Python, you don’t need to **declare the type explicitly**.  \n",
        "- The type is decided automatically at **runtime**.  \n",
        "\n",
        "📦 **Key Point:**\n",
        "- Python is dynamically typed → No need to declare type before using a variable.\n",
        "\n",
        "```python\n",
        "a = 5        # integer\n",
        "b = 3.14     # float\n",
        "c = \"Hello\"  # string\n"
      ],
      "metadata": {
        "id": "4-zfoH_RQavA"
      }
    },
    {
      "cell_type": "code",
      "source": [
        "a = 10    # a is a variale ----> value 10 assigned to variable a\n",
        "print(a)\n",
        "\n",
        "b = 20    # b is a variable\n",
        "print(b)\n",
        "\n",
        "print(a + b)\n",
        "\n",
        "print(a * b)\n",
        "\n",
        "a = a + 1  # add 1 in existing value of a then assign (a + 1) to a\n",
        "print(a)\n",
        "\n",
        "# increament in Computer Science\n",
        "a += 1\n",
        "print(a)"
      ],
      "metadata": {
        "colab": {
          "base_uri": "https://localhost:8080/"
        },
        "id": "TuDStu6DpSqG",
        "outputId": "0e75d4a2-0e2c-49f2-c638-fc5e9cb5a393"
      },
      "execution_count": null,
      "outputs": [
        {
          "output_type": "stream",
          "name": "stdout",
          "text": [
            "10\n",
            "20\n",
            "30\n",
            "200\n",
            "11\n",
            "12\n"
          ]
        }
      ]
    },
    {
      "cell_type": "code",
      "source": [
        "# Valid Variables\n",
        "x = 10\n",
        "name = \"Harsh\"\n",
        "age_21 = 21\n",
        "_value = 99\n",
        "\n",
        "print(x, name, age_21, _value)\n",
        "\n",
        "# Checking types\n",
        "a = 5\n",
        "b = 3.14\n",
        "c = \"Hello\"\n",
        "\n",
        "print(type(a))  # int\n",
        "print(type(b))  # float\n",
        "print(type(c))  # str\n",
        "\n",
        "# ❌ Invalid variable examples (will give error if uncommented)\n",
        "# 21age = 25\n",
        "# my-name = \"Harsh\"\n",
        "# class = \"CS\"\n"
      ],
      "metadata": {
        "colab": {
          "base_uri": "https://localhost:8080/"
        },
        "id": "gKgTvsyuRYZp",
        "outputId": "11bdf28e-7310-49ab-e440-e62796a34111"
      },
      "execution_count": null,
      "outputs": [
        {
          "output_type": "stream",
          "name": "stdout",
          "text": [
            "10 Harsh 21 99\n",
            "<class 'int'>\n",
            "<class 'float'>\n",
            "<class 'str'>\n"
          ]
        }
      ]
    },
    {
      "cell_type": "code",
      "source": [
        "# input() ----> input command is used to take input from the user\n",
        "\n",
        "print('Enter a number:')\n",
        "\n",
        "n = int(input())\n",
        "# int is a datatype of user's input\n",
        "# int convert the user's input in to integer\n",
        "\n",
        "print(n)\n",
        "\n",
        "print(n + 3)"
      ],
      "metadata": {
        "colab": {
          "base_uri": "https://localhost:8080/"
        },
        "id": "dTVu0n3TrMP5",
        "outputId": "a698189a-03b0-4766-dbc6-1e3d41a51063"
      },
      "execution_count": null,
      "outputs": [
        {
          "output_type": "stream",
          "name": "stdout",
          "text": [
            "Enter a number:\n",
            "7\n",
            "7\n",
            "10\n"
          ]
        }
      ]
    },
    {
      "cell_type": "code",
      "source": [
        "print(\"Hello, Enter Your Name\")\n",
        "name = str(input())    # str (string) is a datatype of user's input\n",
        "print(\"Hello\", name,\"!\")\n",
        "\n",
        "print(\"Which Place are you in ?\")\n",
        "place = str(input())\n",
        "print(\"Hello\", name,\",\",\"How is the weather in\", place, \"?\")"
      ],
      "metadata": {
        "colab": {
          "base_uri": "https://localhost:8080/"
        },
        "id": "CvvbKmPW3M2E",
        "outputId": "9bad9c1c-f590-4588-8f6a-2636e583a307"
      },
      "execution_count": null,
      "outputs": [
        {
          "output_type": "stream",
          "name": "stdout",
          "text": [
            "Hello, Enter Your Name\n",
            "Harsh\n",
            "Hello Harsh !\n",
            "Which Place are you in ?\n",
            "Shillong\n",
            "Hello Harsh , How is the weather in Shillong ?\n"
          ]
        }
      ]
    },
    {
      "cell_type": "code",
      "source": [
        "print(\"Enter Your age\")\n",
        "age = int(input())\n",
        "print(\"Good to know you are\", age, \"years old.\")"
      ],
      "metadata": {
        "colab": {
          "base_uri": "https://localhost:8080/"
        },
        "id": "vwVJc7X79qCe",
        "outputId": "9ed86856-cf8e-4660-8a6b-3dc49bd74c1e"
      },
      "execution_count": null,
      "outputs": [
        {
          "output_type": "stream",
          "name": "stdout",
          "text": [
            "Enter Your age\n",
            "20\n",
            "Good to know you are 20 years old.\n"
          ]
        }
      ]
    },
    {
      "cell_type": "code",
      "source": [
        "name = str(input('Enter Your Name: '))\n",
        "place = str(input('Type your location: '))\n",
        "age = int(input('Enter your age: '))\n",
        "\n",
        "print(\"Hello\", name,\"!\")\n",
        "print(\"Hello\", name,\",\",\"How is the weather in\", place, \"?\")\n",
        "print(\"Good to know you are\", age, \"years old.\")\n",
        "\n",
        "# name, place, age ----> it is a variable, you can change the value of variable\n",
        "# variable is like a container, where we can store different value"
      ],
      "metadata": {
        "colab": {
          "base_uri": "https://localhost:8080/"
        },
        "id": "Jh6AUR1W_NaW",
        "outputId": "e6a4e574-097b-485d-b917-83340e27a393"
      },
      "execution_count": null,
      "outputs": [
        {
          "output_type": "stream",
          "name": "stdout",
          "text": [
            "Enter Your Name: Harsh\n",
            "Type your location: Shillong\n",
            "Enter your age: 20\n",
            "Hello Harsh !\n",
            "Hello Harsh , How is the weather in Shillong ?\n",
            "Good to know you are 20 years old.\n"
          ]
        }
      ]
    },
    {
      "cell_type": "markdown",
      "source": [
        "## **🔹 Literals**\n",
        "- **Literals** are **fixed values** assigned to variables.  \n",
        "- They represent **constant data** that doesn’t change.\n",
        "\n",
        "### 🧮 Types of Literals:\n",
        "1. **Numeric Literals** – Integers, Floats, Complex numbers  \n",
        "   - Example: `10`, `3.14`, `2 + 3j`\n",
        "2. **String Literals** – Text enclosed in quotes  \n",
        "   - Example: `\"Hello\"`, `'Python'`\n",
        "3. **Boolean Literals** – Represent truth values  \n",
        "   - Example: `True`, `False`\n",
        "4. **Special Literal** – `None` represents absence of value\n",
        "5. **Collection Literals** – Data structures like  \n",
        "   - **List:** `[1, 2, 3]`  \n",
        "   - **Tuple:** `(4, 5, 6)`  \n",
        "   - **Dictionary:** `{\"name\": \"Harsh\", \"age\": 20}`  \n",
        "   - **Set:** `{1, 2, 3}`\n",
        "\n",
        "📦 **Key Point:**  \n",
        "Literals are **constant values**, whereas **variables** are names that store those values."
      ],
      "metadata": {
        "id": "P8VnBSziEI1P"
      }
    },
    {
      "cell_type": "code",
      "source": [
        "name = \"Ram\"\n",
        "name = \"Lakshman\" # change the value of name Ram to Lakshman\n",
        "name = \"Ram\"      # again update the value of name Lakshman to Ram\n",
        "\n",
        "age = 20\n",
        "age = 25\n",
        "\n",
        "# Here, name and age are variables whereas Ram, Lakshman, 20, 25 are Literals\n",
        "\n",
        "# Literals are the actual values which are stored inside a variable.\n",
        "# Variable can store different Literals Value\n",
        "\n",
        "age = age + 1   # variable can be used on either sides of the symbol equal to.\n",
        "# ❌ 25 = 25 + 1 -------> literals can be used only on the right hand side of the equal to sign\n",
        "\n",
        "print(name)\n",
        "print(age)\n"
      ],
      "metadata": {
        "colab": {
          "base_uri": "https://localhost:8080/"
        },
        "id": "nprRBBgfEzty",
        "outputId": "ae2d92a8-f482-4c16-a271-47245ed62253"
      },
      "execution_count": null,
      "outputs": [
        {
          "output_type": "stream",
          "name": "stdout",
          "text": [
            "Ram\n",
            "26\n"
          ]
        }
      ]
    },
    {
      "cell_type": "code",
      "source": [
        "# When we use variable and when Literals ?\n",
        "\n",
        "radius = int(input('Enter the radius of a circle: '))\n",
        "area = 3.14 * radius ** 2   # 3.14 * radius * radius\n",
        "\n",
        "print('The area of the circle is:', area)\n",
        "\n",
        "# we use radius & area as a variable but value of pi(3.14) as a literal"
      ],
      "metadata": {
        "colab": {
          "base_uri": "https://localhost:8080/"
        },
        "id": "xgY5TABlGhtr",
        "outputId": "a5bc6cb9-bfa2-4e0d-cc5a-dc113e982234"
      },
      "execution_count": null,
      "outputs": [
        {
          "output_type": "stream",
          "name": "stdout",
          "text": [
            "Enter the radius of a circle: 7\n",
            "The area of the circle is: 154.0\n"
          ]
        }
      ]
    },
    {
      "cell_type": "code",
      "source": [
        "# Variables\n",
        "x = 10\n",
        "name = \"Harsh\"\n",
        "pi = 3.14\n",
        "is_student = True\n",
        "\n",
        "print(x, name, pi, is_student)\n",
        "\n",
        "# Checking variable types\n",
        "print(type(x))\n",
        "print(type(name))\n",
        "print(type(pi))\n",
        "print(type(is_student))\n",
        "\n",
        "# Literals Examples\n",
        "num = 25              # Numeric literal\n",
        "float_num = 12.5      # Float literal\n",
        "complex_num = 2 + 3j  # Complex literal\n",
        "string = \"Python\"     # String literal\n",
        "boolean = False       # Boolean literal\n",
        "none_value = None     # Special literal\n",
        "\n",
        "print(num, float_num, complex_num, string, boolean, none_value)\n",
        "\n",
        "# Collection Literals\n",
        "list_ex = [1, 2, 3]\n",
        "tuple_ex = (4, 5, 6)\n",
        "dict_ex = {\"name\": \"Harsh\", \"age\": 20}\n",
        "set_ex = {7, 8, 9}\n",
        "\n",
        "print(list_ex)\n",
        "print(tuple_ex)\n",
        "print(dict_ex)\n",
        "print(set_ex)\n"
      ],
      "metadata": {
        "colab": {
          "base_uri": "https://localhost:8080/"
        },
        "id": "dZWNcWN9HC0o",
        "outputId": "39a0838e-f67a-46ad-cbd3-efc73a1fabd0"
      },
      "execution_count": null,
      "outputs": [
        {
          "output_type": "stream",
          "name": "stdout",
          "text": [
            "10 Harsh 3.14 True\n",
            "<class 'int'>\n",
            "<class 'str'>\n",
            "<class 'float'>\n",
            "<class 'bool'>\n",
            "25 12.5 (2+3j) Python False None\n",
            "[1, 2, 3]\n",
            "(4, 5, 6)\n",
            "{'name': 'Harsh', 'age': 20}\n",
            "{8, 9, 7}\n"
          ]
        }
      ]
    },
    {
      "cell_type": "markdown",
      "source": [
        "# **🧠 Chapter 3: Data Types in Python**\n",
        "\n",
        "## 🔹 What are Data Types?\n",
        "- **Data Type** defines the type of value a variable can hold.  \n",
        "- Python automatically detects the data type when you assign a value (Dynamic Typing).  \n",
        "- It helps the interpreter know **what kind of operations** can be performed on the data.\n",
        "\n",
        "📦 **Key Point:**  \n",
        "Python is **dynamically typed** → You don’t need to declare the type explicitly.\n",
        "\n",
        "---\n",
        "\n",
        "## 🔹 Built-in Data Types in Python\n",
        "\n",
        "| Category | Data Types | Example |\n",
        "|-----------|-------------|----------|\n",
        "| Numeric | `int`, `float`, `complex` | `10`, `3.14`, `2 + 3j` |\n",
        "| Sequence | `str`, `list`, `tuple`, `range` | `\"Hello\"`, `[1,2]`, `(3,4)`, `range(5)` |\n",
        "| Mapping | `dict` | `{\"name\": \"Harsh\", \"age\": 20}` |\n",
        "| Set | `set`, `frozenset` | `{1,2,3}` |\n",
        "| Boolean | `bool` | `True`, `False` |\n",
        "| Binary | `bytes`, `bytearray`, `memoryview` | `b'abc'` |\n",
        "\n",
        "---\n",
        "\n",
        "## 🔹 1. Numeric Data Types\n",
        "- **int** → Integer values → `a = 10`  \n",
        "- **float** → Decimal values → `b = 3.14`  \n",
        "- **complex** → Numbers with real and imaginary parts → `c = 2 + 3j`\n",
        "\n",
        "📦 **Note:** You can perform mathematical operations using these types.\n",
        "\n",
        "---\n",
        "\n",
        "## 🔹 2. String Data Type (`str`)\n",
        "- A **sequence of characters** enclosed in quotes.  \n",
        "- Strings are **immutable** (cannot be changed once created).  \n",
        "\n",
        "Example: `\"Harsh\"`, `'Python'`\n",
        "\n",
        "📦 **Access characters:**  \n",
        "Use **indexing** → `name[0]` gives first character.\n",
        "\n",
        "---\n",
        "\n",
        "## 🔹 3. List Data Type\n",
        "- Ordered, **mutable** (can be changed), allows **duplicates**.  \n",
        "Example: `[1, 2, 3, \"Python\"]`  \n",
        "\n",
        "📦 **Lists can store different data types.**\n",
        "\n",
        "---\n",
        "\n",
        "## 🔹 4. Tuple Data Type\n",
        "- Ordered, **immutable** (cannot be changed), allows **duplicates**.  \n",
        "Example: `(10, 20, 30)`\n",
        "\n",
        "📦 **Used for fixed data that should not change.**\n",
        "\n",
        "---\n",
        "\n",
        "## 🔹 5. Dictionary Data Type (`dict`)\n",
        "- **Key–Value pairs** enclosed in `{}`.  \n",
        "Example: `{\"name\": \"Harsh\", \"age\": 20}`  \n",
        "\n",
        "📦 **Keys must be unique** and **immutable**.\n",
        "\n",
        "---\n",
        "\n",
        "## 🔹 6. Set Data Type\n",
        "- **Unordered**, **unique elements only**.  \n",
        "Example: `{1, 2, 3, 4}`  \n",
        "\n",
        "📦 **Automatically removes duplicates.**\n",
        "\n",
        "---\n",
        "\n",
        "## 🔹 7. Boolean Data Type\n",
        "- Represents **truth values** → `True` or `False`.  \n",
        "- Used in conditional statements.  \n",
        "\n",
        "Example:  \n",
        "```python\n",
        "is_coding_fun = True\n",
        "print(is_coding_fun)\n"
      ],
      "metadata": {
        "id": "ikC6ufvVKcSf"
      }
    },
    {
      "cell_type": "markdown",
      "source": [
        "### **🧠 type() Function in Python**\n",
        "\n",
        "🔹 **The type()** function is used to **determine the data type** of any variable or value.\n",
        "\n",
        "🔹 It helps to identify whether a **variable belongs to int, float, str, bool, list, tuple, complex, etc.**\n",
        "\n",
        "🔹 It returns the **class/type** of the **object passed** to it.\n",
        "\n",
        "🔹 Syntax: type(object)\n",
        "\n",
        "📦 **Example:**\n",
        "\n",
        "If you pass a variable to type(), it will return its data type such as:\n",
        "\n",
        "```\n",
        "<class 'int'> for integers\n",
        "\n",
        "<class 'float'> for floating-point numbers\n",
        "\n",
        "<class 'str'> for strings\n",
        "\n",
        "<class 'bool'> for Boolean values\n",
        "```\n",
        "\n",
        "**📘 Use:**\n",
        "\n",
        "It is commonly used for debugging or verifying data types during program execution."
      ],
      "metadata": {
        "id": "8l2RhCWuzw7a"
      }
    },
    {
      "cell_type": "code",
      "source": [
        "n = 10\n",
        "print(n)\n",
        "\n",
        "r = 6.3\n",
        "print(r)\n",
        "\n",
        "s = 'Harsh Kumar'\n",
        "print(s)\n",
        "\n",
        "print(\"n is of type:\", type(n))   # Output: <class 'int'>\n",
        "print(\"r is of type:\", type(r))   # Output: <class 'float'>\n",
        "print(\"s is of type:\", type(s))   # Output: <class 'str'>"
      ],
      "metadata": {
        "id": "ILbqIzxJwGmR",
        "colab": {
          "base_uri": "https://localhost:8080/"
        },
        "outputId": "df048f60-c329-4887-e201-c99331538312"
      },
      "execution_count": null,
      "outputs": [
        {
          "output_type": "stream",
          "name": "stdout",
          "text": [
            "10\n",
            "6.3\n",
            "Harsh Kumar\n",
            "n is of type: <class 'int'>\n",
            "r is of type: <class 'float'>\n",
            "s is of type: <class 'str'>\n"
          ]
        }
      ]
    },
    {
      "cell_type": "code",
      "source": [
        "# python follows 0-based indexing\n",
        "l = [10, 20, 30]\n",
        "\n",
        "print(l)\n",
        "print(type(l))   # Output: <class 'list'>\n",
        "\n",
        "print(l[0])\n",
        "print(l[1])\n",
        "print(l[2])\n",
        "\n",
        "print(type(l[2]))  # Output: <class 'int'>"
      ],
      "metadata": {
        "colab": {
          "base_uri": "https://localhost:8080/"
        },
        "id": "xSZCZdhwy4j2",
        "outputId": "0dd04509-5c3f-4554-85ed-f9d8c18d1f53"
      },
      "execution_count": null,
      "outputs": [
        {
          "output_type": "stream",
          "name": "stdout",
          "text": [
            "[10, 20, 30]\n",
            "<class 'list'>\n",
            "10\n",
            "20\n",
            "30\n",
            "<class 'int'>\n"
          ]
        }
      ]
    },
    {
      "cell_type": "code",
      "source": [
        "c = 3 + 4j\n",
        "print(type(c))      # Output: <class 'complex'>\n",
        "\n",
        "# T & F should be in capital in True and False\n",
        "b1 = True\n",
        "b2 = False\n",
        "\n",
        "print(b1)\n",
        "print(type(b2))   # Output: <class 'bool'>"
      ],
      "metadata": {
        "colab": {
          "base_uri": "https://localhost:8080/"
        },
        "id": "V4wrvOU108a2",
        "outputId": "151a0bd0-67e7-427b-da57-18f055e1de99"
      },
      "execution_count": null,
      "outputs": [
        {
          "output_type": "stream",
          "name": "stdout",
          "text": [
            "<class 'complex'>\n",
            "True\n",
            "<class 'bool'>\n"
          ]
        }
      ]
    },
    {
      "cell_type": "markdown",
      "source": [
        "### 🔄 **Data Conversion (Type Casting) in Python**\n",
        "\n",
        "📘 **Definition:**  \n",
        "Changing one data type into another is called **Type Casting** or **Type Conversion**.\n",
        "\n",
        "---\n",
        "\n",
        "### 🔹 **Types of Conversion**\n",
        "\n",
        "1. **Implicit Conversion (Automatic)**  \n",
        "   - Done automatically by Python.  \n",
        "   - Converts smaller data type → larger data type to avoid data loss.  \n",
        "\n",
        "   📦 *Example:*  \n",
        "   ```python\n",
        "   x = 5      # int  \n",
        "   y = 2.5    # float  \n",
        "   z = x + y  # int → float automatically  \n",
        "   print(z)   # 7.5  \n",
        "   print(type(z))  # <class 'float'> ```\n",
        "\n",
        "\n",
        "### 🔸 **Explicit Conversion (Manual)**\n",
        "\n",
        "**Definition:**  \n",
        "Done manually using type conversion functions.\n",
        "\n",
        "📘 **Common Functions:**\n",
        "\n",
        "- `int()` → converts to integer  \n",
        "- `float()` → converts to float  \n",
        "- `str()` → converts to string  \n",
        "- `bool()` → converts to boolean  \n",
        "\n",
        "📦 *Example:*  \n",
        "```python\n",
        "a = \"100\"\n",
        "b = int(a)\n",
        "print(b + 10)\n"
      ],
      "metadata": {
        "id": "RUeFMHOfCjmp"
      }
    },
    {
      "cell_type": "code",
      "source": [
        "a = int(5.7)    # 5.7 ---> float  --convert float to int-- int(5.7) ---> convert to 5\n",
        "b = int('10')   # here, 10 is a string\n",
        "\n",
        "print(a, type(a))\n",
        "print(b, type(b))\n",
        "\n",
        "print('Sum of a + b is: ', a + b)"
      ],
      "metadata": {
        "colab": {
          "base_uri": "https://localhost:8080/"
        },
        "id": "swNBEkJ0DVqI",
        "outputId": "b57a327b-c727-466e-a5fd-0d1d99cf07c2"
      },
      "execution_count": null,
      "outputs": [
        {
          "output_type": "stream",
          "name": "stdout",
          "text": [
            "5 <class 'int'>\n",
            "10 <class 'int'>\n",
            "Sum of a + b is:  15\n"
          ]
        }
      ]
    },
    {
      "cell_type": "code",
      "source": [
        "a = float(9)        # convert 9(int) to float (9.0)\n",
        "b = float('5.3')    # convert 5.3(str) to float (5.3)\n",
        "\n",
        "print(a, type(a))\n",
        "print(b, type(b))"
      ],
      "metadata": {
        "colab": {
          "base_uri": "https://localhost:8080/"
        },
        "id": "Le3vw9yqEXUd",
        "outputId": "227d6ff7-17fc-4edd-cd70-500b7115f7b5"
      },
      "execution_count": null,
      "outputs": [
        {
          "output_type": "stream",
          "name": "stdout",
          "text": [
            "9.0 <class 'float'>\n",
            "5.3 <class 'float'>\n"
          ]
        }
      ]
    },
    {
      "cell_type": "code",
      "source": [
        "a = str(9)     # convert integer to string\n",
        "b = str(5.3)   # convert integer to float\n",
        "\n",
        "print(a, type(a))\n",
        "print(b, type(b))\n",
        "\n",
        "print(a + b)"
      ],
      "metadata": {
        "colab": {
          "base_uri": "https://localhost:8080/"
        },
        "id": "kzbm7YgmFHwl",
        "outputId": "3494d5ab-9454-4302-ad4e-998a4ddd23b1"
      },
      "execution_count": null,
      "outputs": [
        {
          "output_type": "stream",
          "name": "stdout",
          "text": [
            "9 <class 'str'>\n",
            "5.3 <class 'str'>\n",
            "95.3\n"
          ]
        }
      ]
    },
    {
      "cell_type": "code",
      "source": [
        "# conversion of integer to boolean\n",
        "\n",
        "# convert all value except 0, to true\n",
        "# convert 0 to false\n",
        "\n",
        "a = bool(10)\n",
        "b = bool(0)\n",
        "c = bool(-10)\n",
        "\n",
        "print(a, type(a))   # Output: True\n",
        "print(b, type(b))   # Output: False\n",
        "print(c, type(c))   # Output: True"
      ],
      "metadata": {
        "colab": {
          "base_uri": "https://localhost:8080/"
        },
        "id": "0G6G9OAIF3ET",
        "outputId": "53df6c48-5b34-4c34-fdc5-36f689d4c48d"
      },
      "execution_count": null,
      "outputs": [
        {
          "output_type": "stream",
          "name": "stdout",
          "text": [
            "True <class 'bool'>\n",
            "False <class 'bool'>\n",
            "True <class 'bool'>\n"
          ]
        }
      ]
    },
    {
      "cell_type": "code",
      "source": [
        "# conversion of float to boolean\n",
        "\n",
        "# convert all value except 0.0, to true\n",
        "# convert 0.0 to false\n",
        "\n",
        "a = bool(10.5)\n",
        "b = bool(0.0)\n",
        "c = bool(-10.4)\n",
        "\n",
        "print(a, type(a))   # Output: True\n",
        "print(b, type(b))   # Output: False\n",
        "print(c, type(c))   # Output: True"
      ],
      "metadata": {
        "colab": {
          "base_uri": "https://localhost:8080/"
        },
        "id": "Px3Zle8TGvPm",
        "outputId": "46c46700-edb9-4b53-fcca-fa270aec4de0"
      },
      "execution_count": null,
      "outputs": [
        {
          "output_type": "stream",
          "name": "stdout",
          "text": [
            "True <class 'bool'>\n",
            "False <class 'bool'>\n",
            "True <class 'bool'>\n"
          ]
        }
      ]
    },
    {
      "cell_type": "code",
      "source": [
        "# conversion of String to boolean\n",
        "\n",
        "# convert all value of string except empty string, to true\n",
        "# convert empty string('') to false\n",
        "\n",
        "a = bool('india')\n",
        "b = bool('10')\n",
        "c = bool('0')\n",
        "d = bool('-10.4')\n",
        "e = bool('')\n",
        "\n",
        "print(a, type(a))   # Output: True\n",
        "print(b, type(b))   # Output: True\n",
        "print(c, type(c))   # Output: True\n",
        "print(d, type(d))   # Output: True\n",
        "print(e, type(e))   # Output: False"
      ],
      "metadata": {
        "colab": {
          "base_uri": "https://localhost:8080/"
        },
        "id": "j1GNmmvHHSTv",
        "outputId": "3a7ce8f2-5d42-40fd-c0ae-9eab6f30b4cb"
      },
      "execution_count": null,
      "outputs": [
        {
          "output_type": "stream",
          "name": "stdout",
          "text": [
            "True <class 'bool'>\n",
            "True <class 'bool'>\n",
            "True <class 'bool'>\n",
            "True <class 'bool'>\n",
            "False <class 'bool'>\n"
          ]
        }
      ]
    },
    {
      "cell_type": "markdown",
      "source": [
        "# **Chapter 4: ⚙️ Operators and Expressions in Python**\n",
        "\n",
        "**Definition:**  \n",
        "Operators are special symbols that perform operations on variables and values.  \n",
        "An **expression** is a combination of variables, constants, and operators that produces a result.\n",
        "\n",
        "---\n",
        "\n",
        "### 🔹 **Types of Operators:**\n",
        "\n",
        "1. **Arithmetic Operators:** `+`, `-`, `*`, `/`, `//`, `%`, `**`  \n",
        "   ➤ Used for mathematical calculations.  \n",
        "\n",
        "2. **Relational (Comparison) Operators:** `==`, `!=`, `>`, `<`, `>=`, `<=`  \n",
        "   ➤ Used to compare values and return `True` or `False`.  \n",
        "\n",
        "3. **Logical Operators:** `and`, `or`, `not`  \n",
        "   ➤ Used to combine conditional statements.  \n",
        "\n",
        "4. **Assignment Operators:** `=`, `+=`, `-=`, `*=`, `/=`  \n",
        "   ➤ Used to assign and update variable values.  \n",
        "\n",
        "5. **Bitwise Operators:** `&`, `|`, `^`, `~`, `<<`, `>>`  \n",
        "   ➤ Used to perform operations on binary data.  \n",
        "\n",
        "6. **Membership Operators:** `in`, `not in`  \n",
        "   ➤ Check if a value exists in a sequence.  \n",
        "\n",
        "7. **Identity Operators:** `is`, `is not`  \n",
        "   ➤ Compare memory locations of objects.\n",
        "\n",
        "---\n",
        "\n",
        "📦 *Example:*  \n",
        "```python\n",
        "a = 10\n",
        "b = 5\n",
        "result = (a + b) * 2\n",
        "print(result)  # Output: 30\n"
      ],
      "metadata": {
        "id": "SHkAdPmmJHms"
      }
    },
    {
      "cell_type": "markdown",
      "source": [
        "### **⚖️ Operator Precedence in Python**\n",
        "\n",
        "**Definition:**  \n",
        "Operator precedence determines the order in which operations are performed in an expression.  \n",
        "Operators with higher precedence are evaluated first.\n",
        "\n",
        "---\n",
        "\n",
        "### 🔹 Order of Precedence (Highest → Lowest)\n",
        "\n",
        "| Precedence | Operator(s) | Description |\n",
        "|-------------|--------------|-------------|\n",
        "| 1 | `()` | Parentheses (used to override precedence) |\n",
        "| 2 | `**` | Exponentiation |\n",
        "| 3 | `+x`, `-x`, `~x` | Unary plus, minus, bitwise NOT |\n",
        "| 4 | `*`, `/`, `//`, `%` | Multiplication, Division, Floor Division, Modulus |\n",
        "| 5 | `+`, `-` | Addition, Subtraction |\n",
        "| 6 | `<<`, `>>` | Bitwise Shift Operators |\n",
        "| 7 | `&` | Bitwise AND |\n",
        "| 8 | `^`, `|` | Bitwise XOR, Bitwise OR |\n",
        "| 9 | `<`, `<=`, `>`, `>=`, `==`, `!=` | Comparison Operators |\n",
        "| 10 | `not` | Logical NOT |\n",
        "| 11 | `and` | Logical AND |\n",
        "| 12 | `or` | Logical OR |\n",
        "| 13 | `=`, `+=`, `-=`, `*=`, `/=`, `//=`, `%=`, `**=` | Assignment Operators |\n",
        "\n",
        "---\n",
        "\n",
        "**Example:**\n",
        "```python\n",
        "result = 10 + 2 * 3   # Multiplication done first → 10 + 6 = 16\n",
        "print(result)\n"
      ],
      "metadata": {
        "id": "mCYcvki8KJg6"
      }
    },
    {
      "cell_type": "code",
      "source": [
        "n = 3 * 2.6\n",
        "print(n)       # Output: 7.800000000000001\n",
        "\n",
        "# concatenation of string\n",
        "a = 'Hello,'\n",
        "b = 'Harsh!'\n",
        "print(a + b)   # Output: Hello,Harsh!"
      ],
      "metadata": {
        "colab": {
          "base_uri": "https://localhost:8080/"
        },
        "id": "uOtzDlhQJ7YN",
        "outputId": "762f6199-1bf6-4a74-881a-3ca0012584cc"
      },
      "execution_count": null,
      "outputs": [
        {
          "output_type": "stream",
          "name": "stdout",
          "text": [
            "7.800000000000001\n",
            "Hello,Harsh!\n"
          ]
        }
      ]
    },
    {
      "cell_type": "code",
      "source": [
        "# Union : put htem together\n",
        "\n",
        "a = [1, 2, 3]\n",
        "b = [7, 8, 9]\n",
        "\n",
        "print(a + b)   # union of list"
      ],
      "metadata": {
        "colab": {
          "base_uri": "https://localhost:8080/"
        },
        "id": "8_MmxGTuMff4",
        "outputId": "022854d8-1e41-4d1a-de50-30c0ab1584cd"
      },
      "execution_count": null,
      "outputs": [
        {
          "output_type": "stream",
          "name": "stdout",
          "text": [
            "[1, 2, 3, 7, 8, 9]\n"
          ]
        }
      ]
    },
    {
      "cell_type": "code",
      "source": [
        "a = 11\n",
        "b = 15\n",
        "print(a / b)"
      ],
      "metadata": {
        "colab": {
          "base_uri": "https://localhost:8080/"
        },
        "id": "8KhKHYmwNB-3",
        "outputId": "450e8b0a-c2b5-4721-b419-5e0aa9d3cda2"
      },
      "execution_count": null,
      "outputs": [
        {
          "output_type": "stream",
          "name": "stdout",
          "text": [
            "0.7333333333333333\n"
          ]
        }
      ]
    },
    {
      "cell_type": "code",
      "source": [
        "n = 10 + 13 * 2\n",
        "# 1st priority given to multiplication due to operator precedence\n",
        "# 13 * 2 = 26 -----> 10 + 26 = 36\n",
        "\n",
        "print(n)"
      ],
      "metadata": {
        "colab": {
          "base_uri": "https://localhost:8080/"
        },
        "id": "uwEr3PV4PfIu",
        "outputId": "c5a8f263-471a-4937-c0f9-5f8b06fdc1dd"
      },
      "execution_count": null,
      "outputs": [
        {
          "output_type": "stream",
          "name": "stdout",
          "text": [
            "36\n"
          ]
        }
      ]
    },
    {
      "cell_type": "code",
      "source": [
        "n = ((10 + 13) * 2)\n",
        "# here 1st priority given to bracket\n",
        "# 10 + 13 = 23 -----> 23 * 2 = 46\n",
        "\n",
        "print(n)"
      ],
      "metadata": {
        "colab": {
          "base_uri": "https://localhost:8080/"
        },
        "id": "0bfQCqV2QHXE",
        "outputId": "253bb5ca-346d-45f3-8841-5a84e6add276"
      },
      "execution_count": null,
      "outputs": [
        {
          "output_type": "stream",
          "name": "stdout",
          "text": [
            "46\n"
          ]
        }
      ]
    },
    {
      "cell_type": "code",
      "source": [
        "#Arithmetic (+, -, *, /, //, %, **)\n",
        "\n",
        "print('Addition', 2 + 3)\n",
        "print('Subtraction', 9 - 1)\n",
        "print('Multiplication', 5 * 4)\n",
        "print('Division', 7 / 3)\n",
        "\n",
        "print('Floor division', 7 // 3)  # gives quotient\n",
        "\n",
        "print('Modulus', 7 % 3)          # gives remainder\n",
        "\n",
        "print('Exponentiation', 6 ** 2)  # calculate 6 * 6 (means 6 to the power 2)"
      ],
      "metadata": {
        "colab": {
          "base_uri": "https://localhost:8080/"
        },
        "id": "aUYBpMq9Rdqd",
        "outputId": "be9f65a2-a747-4482-b970-8a85b3edb6b4"
      },
      "execution_count": null,
      "outputs": [
        {
          "output_type": "stream",
          "name": "stdout",
          "text": [
            "Addition 5\n",
            "Subtraction 8\n",
            "Multiplication 20\n",
            "Division 2.3333333333333335\n",
            "Floor division 2\n",
            "Modulus 1\n",
            "Exponentiation 36\n"
          ]
        }
      ]
    },
    {
      "cell_type": "code",
      "source": [
        "# Relational (>, <, >=, <=, ==, !=)\n",
        "# Output of Relational Operator is always going to be boolean value\n",
        "\n",
        "# Less than (shown in the image)\n",
        "print('5 < 10:', 5 < 10)     # True\n",
        "print('10 < 5:', 10 < 5)     # False\n",
        "\n",
        "# Greater than\n",
        "print('10 > 5:', 10 > 5)     # True\n",
        "print('5 > 10:', 5 > 10)     # False\n",
        "\n",
        "# Less than or equal to\n",
        "print('5 <= 5:', 5 <= 5)     # True\n",
        "print('6 <= 5:', 6 <= 5)     # False\n",
        "\n",
        "# Greater than or equal to\n",
        "print('5 >= 5:', 5 >= 5)     # True\n",
        "print('4 >= 5:', 4 >= 5)     # False\n",
        "\n",
        "# Equal to\n",
        "print('5 == 5:', 5 == 5)     # True\n",
        "print('5 == 6:', 5 == 6)     # False\n",
        "\n",
        "# Not equal to\n",
        "print('5 != 6:', 5 != 6)     # True\n",
        "print('5 != 5:', 5 != 5)     # False"
      ],
      "metadata": {
        "colab": {
          "base_uri": "https://localhost:8080/"
        },
        "id": "-pcOQvU9SZBu",
        "outputId": "d68f319f-3bfe-4bde-8c11-a5de2f1a70c8"
      },
      "execution_count": null,
      "outputs": [
        {
          "output_type": "stream",
          "name": "stdout",
          "text": [
            "5 < 10: True\n",
            "10 < 5: False\n",
            "10 > 5: True\n",
            "5 > 10: False\n",
            "5 <= 5: True\n",
            "6 <= 5: False\n",
            "5 >= 5: True\n",
            "4 >= 5: False\n",
            "5 == 5: True\n",
            "5 == 6: False\n",
            "5 != 6: True\n",
            "5 != 5: False\n"
          ]
        }
      ]
    },
    {
      "cell_type": "code",
      "source": [
        "#logical (and, or, not)\n",
        "# Output of Logical Operator is always going to be boolean value\n",
        "\n",
        "# 'and' operator (True if both are True)\n",
        "print(True and True)    # Output: True\n",
        "print(True and False)   # Output: False\n",
        "print(False and True)   # Output: False\n",
        "print(False and False)  # Output: False\n",
        "\n",
        "# 'or' operator (True if at least one is True)\n",
        "print(True or True)     # Output: True\n",
        "print(True or False)    # Output: True\n",
        "print(False or True)    # Output: True\n",
        "print(False or False)   # Output: False\n",
        "\n",
        "# 'not' operator (Inverts the Boolean value)\n",
        "print(not True)         # Output: False\n",
        "print(not False)        # Output: True\n",
        "\n",
        "print(not (True))       # Output is same: False\n",
        "print(not (not True))   # Output: True"
      ],
      "metadata": {
        "colab": {
          "base_uri": "https://localhost:8080/"
        },
        "id": "PNMTKezRTyH0",
        "outputId": "2b8c52ff-f004-4e23-eb54-91133114cdb1"
      },
      "execution_count": null,
      "outputs": [
        {
          "output_type": "stream",
          "name": "stdout",
          "text": [
            "True\n",
            "False\n",
            "False\n",
            "False\n",
            "True\n",
            "True\n",
            "True\n",
            "False\n",
            "False\n",
            "True\n",
            "False\n",
            "True\n"
          ]
        }
      ]
    }
  ]
}